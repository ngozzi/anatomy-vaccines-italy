{
 "cells": [
  {
   "cell_type": "code",
   "execution_count": 2,
   "metadata": {},
   "outputs": [],
   "source": [
    "# libraries\n",
    "import pandas as pd\n",
    "from datetime import datetime\n",
    "school_columns = [\"C1_School closing\", \"C2_Workplace closing\", \"C6_Stay at home requirements\"]\n",
    "\n",
    "def save_school(df, cond, savename):\n",
    "    \n",
    "    country = df.loc[cond(df)]\n",
    "    country = country[school_columns]\n",
    "    # sort by date and fill nan\n",
    "    country.sort_values(by=\"date\", inplace=True)\n",
    "    country.fillna(method=\"ffill\", inplace=True)\n",
    "    country.to_csv(\"../../basins/\" + savename + \"/restrictions/school.csv\")"
   ]
  },
  {
   "cell_type": "markdown",
   "metadata": {},
   "source": [
    "# covid-policy-tracker\n",
    "https://www.bsg.ox.ac.uk/research/research-projects/coronavirus-government-response-tracker#data"
   ]
  },
  {
   "cell_type": "code",
   "execution_count": 3,
   "metadata": {},
   "outputs": [
    {
     "name": "stderr",
     "output_type": "stream",
     "text": [
      "/opt/anaconda3/lib/python3.8/site-packages/IPython/core/interactiveshell.py:3165: DtypeWarning: Columns (2,3) have mixed types.Specify dtype option on import or set low_memory=False.\n",
      "  has_raised = await self.run_ast_nodes(code_ast.body, cell_name,\n"
     ]
    }
   ],
   "source": [
    "df = pd.read_csv(\"https://raw.githubusercontent.com/OxCGRT/covid-policy-tracker/master/data/OxCGRT_latest.csv\")\n",
    "\n",
    "# parse dates\n",
    "parse_dates = lambda string : datetime(int(str(string)[0:4]), int(str(string)[4:6]), int(str(string)[6:8]))\n",
    "df[\"date\"] = df[\"Date\"].apply(parse_dates)\n",
    "df.index = df[\"date\"]"
   ]
  },
  {
   "cell_type": "code",
   "execution_count": 4,
   "metadata": {},
   "outputs": [],
   "source": [
    "cond = lambda df : df.CountryName == \"Italy\"\n",
    "save_school(df, cond, \"Italy-northwest\")\n",
    "save_school(df, cond, \"Italy-northeast\")\n",
    "save_school(df, cond, \"Italy-center\")\n",
    "save_school(df, cond, \"Italy-south\")\n",
    "save_school(df, cond, \"Italy-sicily\")\n",
    "save_school(df, cond, \"Italy-sardinia\")"
   ]
  },
  {
   "cell_type": "code",
   "execution_count": null,
   "metadata": {},
   "outputs": [],
   "source": []
  }
 ],
 "metadata": {
  "kernelspec": {
   "display_name": "Python 3",
   "language": "python",
   "name": "python3"
  },
  "language_info": {
   "codemirror_mode": {
    "name": "ipython",
    "version": 3
   },
   "file_extension": ".py",
   "mimetype": "text/x-python",
   "name": "python",
   "nbconvert_exporter": "python",
   "pygments_lexer": "ipython3",
   "version": "3.8.8"
  }
 },
 "nbformat": 4,
 "nbformat_minor": 4
}
