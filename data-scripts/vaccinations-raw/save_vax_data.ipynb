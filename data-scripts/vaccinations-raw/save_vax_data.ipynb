{
 "cells": [
  {
   "cell_type": "code",
   "execution_count": 6,
   "metadata": {},
   "outputs": [],
   "source": [
    "# libraries\n",
    "import pandas as pd \n",
    "import numpy as np\n",
    "import pickle as pkl\n",
    "from datetime import timedelta, datetime\n",
    "\n",
    "# Italian regions\n",
    "north_west_regions = [\"Piemonte\", \"Valle d'Aosta / Vallée d'Aoste\", \"Liguria\", \"Lombardia\"]\n",
    "north_east_regions = ['Provincia Autonoma Trento', 'Provincia Autonoma Bolzano / Bozen', \"Veneto\", \"Friuli-Venezia Giulia\", \"Emilia-Romagna\"]\n",
    "center_regions = [\"Toscana\", \"Umbria\", \"Marche\",\"Lazio\"]\n",
    "south_regions = [\"Abruzzo\", \"Molise\", \"Campania\", \"Puglia\", \"Basilicata\", \"Calabria\"]\n",
    "sicily_regions = [\"Sicilia\"]\n",
    "sardinia_regions = [\"Sardegna\"]\n",
    "\n",
    "# name of fornitori\n",
    "fornitori = ['Pfizer/BioNTech', 'Moderna', 'Vaxzevria (AstraZeneca)', 'Janssen']\n",
    "fornitori_names = {'Pfizer/BioNTech': \"pfizer\", \n",
    "                   'Moderna': \"moderna\", \n",
    "                   'Vaxzevria (AstraZeneca)': \"astrazeneca\", \n",
    "                   'Janssen': \"JJ\"}"
   ]
  },
  {
   "cell_type": "markdown",
   "metadata": {},
   "source": [
    "# 1. Vaccinations "
   ]
  },
  {
   "cell_type": "code",
   "execution_count": 7,
   "metadata": {},
   "outputs": [],
   "source": [
    "def get_vacc_regions(regions, fornitore, savename):\n",
    "\n",
    "    url = \"https://raw.githubusercontent.com/italia/covid19-opendata-vaccini/master/dati/somministrazioni-vaccini-latest.csv\"\n",
    "\n",
    "    # import data\n",
    "    df  = pd.read_csv(url)\n",
    "    df.data_somministrazione = pd.to_datetime(df.data_somministrazione)\n",
    "    df = df.loc[df.fornitore == fornitore].reset_index(drop=True)\n",
    "    df = df.loc[df.nome_area.isin(regions)].reset_index(drop=True)\n",
    "    \n",
    "    # keep only selected columns\n",
    "    df = df[[\"data_somministrazione\", \"fascia_anagrafica\", \"prima_dose\"]]\n",
    "\n",
    "    # group by date and age group \n",
    "    df_grouped = df.groupby(by=[\"data_somministrazione\", \"fascia_anagrafica\"], as_index=False).sum()\n",
    "\n",
    "    # sort by date \n",
    "    df_grouped.sort_values(by=[\"data_somministrazione\", \"fascia_anagrafica\"], inplace=True, ignore_index=True)\n",
    "    \n",
    "    # map to our age groups \n",
    "    vaccinations, vaccinations_zero = {}, {}\n",
    "    ages = ['16-19', '20-29', '30-39', '40-49', '50-59', '60-69', '70-79', '80-89', '90+']\n",
    "\n",
    "    date = datetime(2020, 9, 1)\n",
    "    while date <= datetime(2021, 7, 26):\n",
    "\n",
    "        vaccinations[date] = np.zeros(10) # n. of our age groups\n",
    "        vaccinations_zero[date] = np.zeros(10) # n. of our age groups\n",
    "        for age in ages: \n",
    "            df_date_age = df_grouped.loc[(df_grouped.data_somministrazione == date) & (df_grouped.fascia_anagrafica == age)]\n",
    "            \n",
    "            if len(df_date_age) > 0:\n",
    "                if age == '16-19':\n",
    "                    vaccinations[date][1] += df_date_age[\"prima_dose\"].values[0]     # 10-19\n",
    "\n",
    "                elif age == '20-29':\n",
    "                    vaccinations[date][2] += df_date_age[\"prima_dose\"].values[0] / 2 # 20-24\n",
    "                    vaccinations[date][3] += df_date_age[\"prima_dose\"].values[0] / 2 # 25-29\n",
    "\n",
    "                elif age == '30-39':\n",
    "                    vaccinations[date][4] += df_date_age[\"prima_dose\"].values[0]     # 30-39\n",
    "\n",
    "                elif age == '40-49':\n",
    "                    vaccinations[date][5] += df_date_age[\"prima_dose\"].values[0]     # 40-49\n",
    "\n",
    "                elif age == '50-59':\n",
    "                    vaccinations[date][6] += df_date_age[\"prima_dose\"].values[0]     # 50-59\n",
    "\n",
    "                elif age == '60-69':\n",
    "                    vaccinations[date][7] += df_date_age[\"prima_dose\"].values[0]     # 60-69\n",
    "\n",
    "                elif age == '70-79':   \n",
    "                    vaccinations[date][8] += df_date_age[\"prima_dose\"].values[0]     # 70-79\n",
    "\n",
    "                elif age == '80-89':\n",
    "                    vaccinations[date][9] += df_date_age[\"prima_dose\"].values[0]     # 80+\n",
    "\n",
    "                elif age == '90+':\n",
    "                    vaccinations[date][9] += df_date_age[\"prima_dose\"].values[0]     # 80+\n",
    "\n",
    "        date += timedelta(days=1)\n",
    "\n",
    "    with open(\"../../basins/\" + savename + \"/vaccinations/vaccinations_\" + fornitori_names[fornitore] + \".pkl\", \"wb\") as file:\n",
    "        pkl.dump(vaccinations, file)\n",
    "        \n",
    "    return vaccinations"
   ]
  },
  {
   "cell_type": "code",
   "execution_count": 8,
   "metadata": {},
   "outputs": [
    {
     "name": "stdout",
     "output_type": "stream",
     "text": [
      "Pfizer/BioNTech\n",
      "Moderna\n",
      "Vaxzevria (AstraZeneca)\n",
      "Janssen\n"
     ]
    }
   ],
   "source": [
    "for fornitore in fornitori:\n",
    "    print(fornitore)\n",
    "    vacc_northwest_primadose = get_vacc_regions(north_west_regions, fornitore, \"Italy-northwest\")\n",
    "    vacc_northeast_primadose = get_vacc_regions(north_east_regions, fornitore, \"Italy-northeast\")\n",
    "    vacc_center_primadose    = get_vacc_regions(center_regions, fornitore, \"Italy-center\")\n",
    "    vacc_south_primadose     = get_vacc_regions(south_regions, fornitore, \"Italy-south\")\n",
    "    vacc_sicily_primadose    = get_vacc_regions(sicily_regions, fornitore, \"Italy-sicily\")\n",
    "    vacc_sardinia_primadose  = get_vacc_regions(sardinia_regions, fornitore, \"Italy-sardinia\")"
   ]
  },
  {
   "cell_type": "code",
   "execution_count": null,
   "metadata": {},
   "outputs": [],
   "source": []
  }
 ],
 "metadata": {
  "kernelspec": {
   "display_name": "Python 3",
   "language": "python",
   "name": "python3"
  },
  "language_info": {
   "codemirror_mode": {
    "name": "ipython",
    "version": 3
   },
   "file_extension": ".py",
   "mimetype": "text/x-python",
   "name": "python",
   "nbconvert_exporter": "python",
   "pygments_lexer": "ipython3",
   "version": "3.8.8"
  }
 },
 "nbformat": 4,
 "nbformat_minor": 4
}
